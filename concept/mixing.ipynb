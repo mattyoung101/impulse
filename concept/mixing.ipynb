{
 "cells": [
  {
   "cell_type": "code",
   "execution_count": 10,
   "metadata": {},
   "outputs": [],
   "source": [
    "import numpy as np\n",
    "import matplotlib.pyplot as plt\n",
    "from scipy.io import wavfile\n",
    "\n",
    "SAMPLE_RATE = 44100 # Hz\n",
    "TIME = 0.5 # seconds\n",
    "NUM_SAMPLES = int(TIME * SAMPLE_RATE)"
   ]
  },
  {
   "cell_type": "code",
   "execution_count": 11,
   "metadata": {},
   "outputs": [
    {
     "data": {
      "text/plain": [
       "[<matplotlib.lines.Line2D at 0x7f1a29f6a430>]"
      ]
     },
     "execution_count": 11,
     "metadata": {},
     "output_type": "execute_result"
    },
    {
     "data": {
      "image/png": "[encoded data removed]",
      "text/plain": [
       "<Figure size 432x288 with 1 Axes>"
      ]
     },
     "metadata": {
      "needs_background": "light"
     },
     "output_type": "display_data"
    }
   ],
   "source": [
    "noiseBuf = np.zeros(NUM_SAMPLES)\n",
    "\n",
    "# # Noise oscillator\n",
    "# value = np.random.choice([-1.0, 1.0])\n",
    "# for i in range(len(noiseBuf)):\n",
    "#     if i % 10 == 0:\n",
    "#         # update value every 100 ticks\n",
    "#         value = np.random.choice([-1.0, 1.0])\n",
    "    \n",
    "#     # write value to buffer\n",
    "#     noiseBuf[i] = value\n",
    "\n",
    "# Sine oscillator 1\n",
    "sineBuf440 = np.zeros(NUM_SAMPLES)\n",
    "range_ = np.linspace(0.0, 1.0, NUM_SAMPLES)\n",
    "for i in range(len(noiseBuf)):\n",
    "    sineBuf440[i] = np.sin(2.0 * np.pi * 440 * range_[i])\n",
    "\n",
    "# Sine oscillator 2\n",
    "sineBuf880 = np.zeros(NUM_SAMPLES)\n",
    "range_ = np.linspace(0.0, 1.0, NUM_SAMPLES)\n",
    "for i in range(len(noiseBuf)):\n",
    "    sineBuf880[i] = np.sin(2.0 * np.pi * 880 * range_[i])\n",
    "\n",
    "# Combine\n",
    "out = sineBuf440 + sineBuf880\n",
    "plt.plot(out)"
   ]
  },
  {
   "cell_type": "code",
   "execution_count": 12,
   "metadata": {},
   "outputs": [],
   "source": [
    "# Write to file\n",
    "# wavfile.write(\"noise.wav\", NUM_SAMPLES, noiseBuf)\n",
    "# wavfile.write(\"sine.wav\", NUM_SAMPLES, sineBuf)\n",
    "wavfile.write(\"combined.wav\", NUM_SAMPLES, out)"
   ]
  }
 ],
 "metadata": {
  "kernelspec": {
   "display_name": "Python 3.8.10 64-bit",
   "language": "python",
   "name": "python3"
  },
  "language_info": {
   "codemirror_mode": {
    "name": "ipython",
    "version": 3
   },
   "file_extension": ".py",
   "mimetype": "text/x-python",
   "name": "python",
   "nbconvert_exporter": "python",
   "pygments_lexer": "ipython3",
   "version": "3.8.10"
  },
  "orig_nbformat": 4,
  "vscode": {
   "interpreter": {
    "hash": "31f2aee4e71d21fbe5cf8b01ff0e069b9275f58929596ceb00d14d90e3e16cd6"
   }
  }
 },
 "nbformat": 4,
 "nbformat_minor": 2
}
