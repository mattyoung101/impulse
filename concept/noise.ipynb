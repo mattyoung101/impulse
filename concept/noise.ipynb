{
 "cells": [
  {
   "cell_type": "code",
   "execution_count": 59,
   "metadata": {},
   "outputs": [
    {
     "name": "stdout",
     "output_type": "stream",
     "text": [
      "Num samples: 44100\n"
     ]
    }
   ],
   "source": [
    "import numpy as np\n",
    "import matplotlib.pyplot as plt\n",
    "import soundfile as sf # pip install soundfile\n",
    "from pylfsr import LFSR # pip install pylfsr\n",
    "from PIL import Image\n",
    "\n",
    "SAMPLE_RATE = 44100 # Hz\n",
    "TIME = 1.0 # seconds\n",
    "NUM_SAMPLES = int(TIME * SAMPLE_RATE)\n",
    "print(f\"Num samples: {NUM_SAMPLES}\")"
   ]
  },
  {
   "cell_type": "code",
   "execution_count": 60,
   "metadata": {},
   "outputs": [],
   "source": [
    "noiseBuf = np.zeros(NUM_SAMPLES, dtype=np.int16)\n",
    "# use a 16-bit LFSR, source:\n",
    "# https://en.wikipedia.org/wiki/Linear-feedback_shift_register#Example_polynomials_for_maximal_LFSRs\n",
    "lfsr = LFSR(fpoly=[16,15,13,4])\n",
    "\n",
    "# Noise oscillator\n",
    "value = -32768\n",
    "for i in range(len(noiseBuf)):\n",
    "    # you can uncomment this to \"decimate\" the noise by only updating\n",
    "    # every \"n\" ticks\n",
    "    # if i % 100 == 0:\n",
    "    value = 32767 if lfsr.next() else -32768\n",
    "    \n",
    "    # write value to buffer\n",
    "    noiseBuf[i] = value\n",
    "\n",
    "# Visualise noise as an image using Pillow\n",
    "# img = Image.new(\"RGB\", (512, 512))\n",
    "# for y in range(512):\n",
    "#     for x in range(512):\n",
    "#         if lfsr.next():\n",
    "#             img.putpixel((x, y), (255,255,255))\n",
    "#         else:\n",
    "#             img.putpixel((x,y), (0,0,0))\n",
    "# img.save(\"noise.png\")"
   ]
  },
  {
   "cell_type": "code",
   "execution_count": 61,
   "metadata": {},
   "outputs": [],
   "source": [
    "# Write to file (we need a lossless format)\n",
    "sf.write(\"noise.flac\", noiseBuf, SAMPLE_RATE)"
   ]
  }
 ],
 "metadata": {
  "kernelspec": {
   "display_name": "Python 3.8.10 64-bit",
   "language": "python",
   "name": "python3"
  },
  "language_info": {
   "codemirror_mode": {
    "name": "ipython",
    "version": 3
   },
   "file_extension": ".py",
   "mimetype": "text/x-python",
   "name": "python",
   "nbconvert_exporter": "python",
   "pygments_lexer": "ipython3",
   "version": "3.8.10"
  },
  "orig_nbformat": 4,
  "vscode": {
   "interpreter": {
    "hash": "31f2aee4e71d21fbe5cf8b01ff0e069b9275f58929596ceb00d14d90e3e16cd6"
   }
  }
 },
 "nbformat": 4,
 "nbformat_minor": 2
}
