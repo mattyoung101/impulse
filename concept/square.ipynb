{
 "cells": [
  {
   "cell_type": "code",
   "execution_count": 32,
   "metadata": {},
   "outputs": [
    {
     "name": "stdout",
     "output_type": "stream",
     "text": [
      "Num samples: 176400\n",
      "Frequency: 440 period: 50\n"
     ]
    }
   ],
   "source": [
    "import numpy as np\n",
    "import matplotlib.pyplot as plt\n",
    "import soundfile as sf # pip install soundfile\n",
    "\n",
    "SAMPLE_RATE = 44100 # Hz\n",
    "TIME = 4.0 # seconds\n",
    "NUM_SAMPLES = int(TIME * SAMPLE_RATE)\n",
    "print(f\"Num samples: {NUM_SAMPLES}\")\n",
    "\n",
    "\n",
    "# Square oscillator\n",
    "squareBuf = np.zeros(NUM_SAMPLES, dtype=np.int16)\n",
    "freq = 440  # Hz\n",
    "time = 1.0 / freq # seconds period\n",
    "period = int((time * SAMPLE_RATE) / 2.0) # just trial and error, idk why we have divide by 2 here\n",
    "print(f\"Frequency: {freq} period: {period}\")\n",
    "\n",
    "on = False\n",
    "counter = 0\n",
    "for i in range(len(squareBuf)):\n",
    "    # check if we should change mode\n",
    "    if counter >= period:\n",
    "        on = not on\n",
    "        counter = 0\n",
    "    # write to the buffer\n",
    "    squareBuf[i] = 32767 if on else -32768\n",
    "    counter += 1\n",
    "\n",
    "# Write to file (we need a lossless format)\n",
    "sf.write(\"square.flac\", squareBuf, SAMPLE_RATE)\n",
    "\n",
    "# This appears to be worse than the above for some reason, so don't use\n",
    "# Phased square wave\n",
    "# Source: https://blog.demofox.org/2012/05/19/diy-synthesizer-chapter-2-common-wave-forms/\n",
    "# Which was discovered through (and also code came from):\n",
    "# https://github.com/rcliftonharvey/rchoscillators/blob/master/library/oscillators/templates/square.h\n",
    "# squareBuf = np.zeros(NUM_SAMPLES, dtype=np.int16)\n",
    "# phase = 0.0\n",
    "# for i in range(len(squareBuf)):\n",
    "#     phase += freq / float(SAMPLE_RATE)\n",
    "\n",
    "#     if phase >= 1.0:\n",
    "#         phase -= 1.0\n",
    "#     elif phase < 0.0:\n",
    "#         phase += 1.0\n",
    "\n",
    "#     squareBuf[i] = 32767 if phase < 0.5 else -32768\n",
    "\n",
    "# sf.write(\"square2.flac\", squareBuf, SAMPLE_RATE)"
   ]
  }
 ],
 "metadata": {
  "kernelspec": {
   "display_name": "Python 3.8.10 64-bit",
   "language": "python",
   "name": "python3"
  },
  "language_info": {
   "codemirror_mode": {
    "name": "ipython",
    "version": 3
   },
   "file_extension": ".py",
   "mimetype": "text/x-python",
   "name": "python",
   "nbconvert_exporter": "python",
   "pygments_lexer": "ipython3",
   "version": "3.8.10"
  },
  "orig_nbformat": 4,
  "vscode": {
   "interpreter": {
    "hash": "31f2aee4e71d21fbe5cf8b01ff0e069b9275f58929596ceb00d14d90e3e16cd6"
   }
  }
 },
 "nbformat": 4,
 "nbformat_minor": 2
}
