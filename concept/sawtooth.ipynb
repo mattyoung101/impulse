{
 "cells": [
  {
   "cell_type": "code",
   "execution_count": 1,
   "metadata": {},
   "outputs": [
    {
     "name": "stdout",
     "output_type": "stream",
     "text": [
      "Num samples: 176400\n",
      "Frequency: 440 period: 100\n"
     ]
    }
   ],
   "source": [
    "import numpy as np\n",
    "import matplotlib.pyplot as plt\n",
    "import soundfile as sf # pip install soundfile\n",
    "\n",
    "SAMPLE_RATE = 44100 # Hz\n",
    "TIME = 4.0 # seconds\n",
    "NUM_SAMPLES = int(TIME * SAMPLE_RATE)\n",
    "print(f\"Num samples: {NUM_SAMPLES}\")\n",
    "\n",
    "\n",
    "# Sawtooth oscillator\n",
    "# NOTE: This generates all sorts of nasty frequencies, should fix\n",
    "# NOTE: that being said it doesn't sound noticeably worse, probably check on better headphones first though\n",
    "sawBuf = np.zeros(NUM_SAMPLES, dtype=np.int16)\n",
    "freq = 440  # Hz\n",
    "time = 1.0 / freq # seconds period\n",
    "period = int((time * SAMPLE_RATE)) # apparently divide by 2 isn't required any more?\n",
    "print(f\"Frequency: {freq} period: {period}\")\n",
    "\n",
    "counter = 0\n",
    "for i in range(len(sawBuf)):\n",
    "    # check if we should reset\n",
    "    if counter >= period:\n",
    "        counter = 0\n",
    "    # write to the buffer\n",
    "    # map [0, period] to [-32768, 32767]\n",
    "    sawBuf[i] = int(np.interp(counter, [0, period], [-32768, 32767]))\n",
    "    counter += 1\n",
    "\n",
    "# Write to file (we need a lossless format)\n",
    "sf.write(\"sawtooth.flac\", sawBuf, SAMPLE_RATE)"
   ]
  }
 ],
 "metadata": {
  "kernelspec": {
   "display_name": "Python 3.8.10 64-bit",
   "language": "python",
   "name": "python3"
  },
  "language_info": {
   "codemirror_mode": {
    "name": "ipython",
    "version": 3
   },
   "file_extension": ".py",
   "mimetype": "text/x-python",
   "name": "python",
   "nbconvert_exporter": "python",
   "pygments_lexer": "ipython3",
   "version": "3.8.10"
  },
  "orig_nbformat": 4,
  "vscode": {
   "interpreter": {
    "hash": "31f2aee4e71d21fbe5cf8b01ff0e069b9275f58929596ceb00d14d90e3e16cd6"
   }
  }
 },
 "nbformat": 4,
 "nbformat_minor": 2
}
